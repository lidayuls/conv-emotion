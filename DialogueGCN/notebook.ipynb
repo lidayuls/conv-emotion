{
 "cells": [
  {
   "cell_type": "code",
   "execution_count": 2,
   "outputs": [
    {
     "name": "stdout",
     "text": [
      "python_test\n"
     ],
     "output_type": "stream"
    }
   ],
   "source": [
    "print(\"python_test\")\n",
    "\n",
    "print(\"python_test\")"
   ],
   "metadata": {
    "collapsed": false,
    "pycharm": {
     "name": "#%%\n",
     "is_executing": false
    }
   }
  },
  {
   "cell_type": "code",
   "execution_count": 2,
   "outputs": [],
   "source": [
    "import torch\n",
    "from torch.utils.data import Dataset\n",
    "from torch.nn.utils.rnn import pad_sequence\n",
    "import pickle, pandas as pd\n",
    "\n",
    "\n",
    "class IEMOCAPDataset(Dataset):\n",
    "\n",
    "    def __init__(self, train=True):\n",
    "        self.videoIDs, self.videoSpeakers, self.videoLabels, self.videoText,\\\n",
    "        self.videoAudio, self.videoVisual, self.videoSentence, self.trainVid,\\\n",
    "        self.testVid = pickle.load(open('./IEMOCAP_features/IEMOCAP_features.pkl', 'rb'), encoding='latin1')\n",
    "        '''\n",
    "        label index mapping = {'hap':0, 'sad':1, 'neu':2, 'ang':3, 'exc':4, 'fru':5}\n",
    "        '''\n",
    "        self.keys = [x for x in (self.trainVid if train else self.testVid)]\n",
    "\n",
    "        self.len = len(self.keys)\n",
    "\n",
    "    def __getitem__(self, index):\n",
    "        vid = self.keys[index]\n",
    "        return torch.FloatTensor(self.videoText[vid]),\\\n",
    "               torch.FloatTensor(self.videoVisual[vid]),\\\n",
    "               torch.FloatTensor(self.videoAudio[vid]),\\\n",
    "               torch.FloatTensor([[1,0] if x=='M' else [0,1] for x in\\\n",
    "                                  self.videoSpeakers[vid]]),\\\n",
    "               torch.FloatTensor([1]*len(self.videoLabels[vid])),\\\n",
    "               torch.LongTensor(self.videoLabels[vid]),\\\n",
    "               vid\n",
    "\n",
    "    def __len__(self):\n",
    "        return self.len\n",
    "\n",
    "    def collate_fn(self, data):\n",
    "        dat = pd.DataFrame(data)\n",
    "        return [pad_sequence(dat[i]) if i<4 else pad_sequence(dat[i], True) if i<6 else dat[i].tolist() for i in dat]\n",
    "\n",
    "\n"
   ],
   "metadata": {
    "collapsed": false,
    "pycharm": {
     "name": "#%%\n",
     "is_executing": false
    }
   }
  }
 ],
 "metadata": {
  "kernelspec": {
   "display_name": "Python 3",
   "language": "python",
   "name": "python3"
  },
  "language_info": {
   "codemirror_mode": {
    "name": "ipython",
    "version": 2
   },
   "file_extension": ".py",
   "mimetype": "text/x-python",
   "name": "python",
   "nbconvert_exporter": "python",
   "pygments_lexer": "ipython2",
   "version": "2.7.6"
  },
  "pycharm": {
   "stem_cell": {
    "cell_type": "raw",
    "source": [],
    "metadata": {
     "collapsed": false
    }
   }
  }
 },
 "nbformat": 4,
 "nbformat_minor": 0
}